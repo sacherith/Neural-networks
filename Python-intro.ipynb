{
  "nbformat": 4,
  "nbformat_minor": 0,
  "metadata": {
    "colab": {
      "provenance": []
    },
    "kernelspec": {
      "name": "python3",
      "display_name": "Python 3"
    },
    "language_info": {
      "name": "python"
    }
  },
  "cells": [
    {
      "cell_type": "markdown",
      "source": [
        "**1. Character Deletion & Reversing resultant string\n",
        "and Arithmetic operations**\n",
        "\n",
        "\n",
        "\n"
      ],
      "metadata": {
        "id": "SqpW06IrbyhN"
      }
    },
    {
      "cell_type": "code",
      "source": [
        "name=input(\"Enter name= \")\n",
        "name=name[:-2]\n",
        "def rever(str):\n",
        "  return str[::-1]\n",
        "print(\"Output=\",rever(name))"
      ],
      "metadata": {
        "colab": {
          "base_uri": "https://localhost:8080/"
        },
        "id": "a_P0s6pEIw0j",
        "outputId": "754d3384-a1f3-48ee-f13c-40dc5268d210"
      },
      "execution_count": 25,
      "outputs": [
        {
          "output_type": "stream",
          "name": "stdout",
          "text": [
            "Enter name= python\n",
            "Output= htyp\n"
          ]
        }
      ]
    },
    {
      "cell_type": "code",
      "source": [
        "a=int(input(\"Enter number 1= \"))\n",
        "b=int(input(\"Enter number 2= \"))\n",
        "print(\"Addition= \",(a+b))\n",
        "print(\"Substraction= \",(a-b))\n",
        "print(\"Multiplication= \",(a*b))\n",
        "print(\"Division= \",(a/b))"
      ],
      "metadata": {
        "colab": {
          "base_uri": "https://localhost:8080/"
        },
        "id": "WwDByb3LIzpr",
        "outputId": "141c68d2-fbc5-48aa-c3b5-26261ab70d95"
      },
      "execution_count": 26,
      "outputs": [
        {
          "output_type": "stream",
          "name": "stdout",
          "text": [
            "Enter number 1= 23\n",
            "Enter number 2= 22\n",
            "Addition=  45\n",
            "Substraction=  1\n",
            "Multiplication=  506\n",
            "Division=  1.0454545454545454\n"
          ]
        }
      ]
    },
    {
      "cell_type": "markdown",
      "source": [
        "**2. Replace each occurence of word in sentence**"
      ],
      "metadata": {
        "id": "OKoVeu6Xckl-"
      }
    },
    {
      "cell_type": "code",
      "source": [
        "sent=input(\"Enter sentence: \")\n",
        "sent2=sent.replace(\"python\",\"pythons\")\n",
        "print(\"New sentence is: \",sent2)"
      ],
      "metadata": {
        "colab": {
          "base_uri": "https://localhost:8080/"
        },
        "id": "5VyCeNXtK3as",
        "outputId": "9270f4f3-8061-4f1e-9ae9-c70222b841ce"
      },
      "execution_count": 27,
      "outputs": [
        {
          "output_type": "stream",
          "name": "stdout",
          "text": [
            "Enter sentence: I love python programming language and python has many applications.\n",
            "New sentence is:  I love pythons programming language and pythons has many applications.\n"
          ]
        }
      ]
    },
    {
      "cell_type": "markdown",
      "source": [
        "**3. Grade based on score**"
      ],
      "metadata": {
        "id": "H0b37yizdDJS"
      }
    },
    {
      "cell_type": "code",
      "source": [
        "def grade(score):\n",
        "  if(score>=75 and score<=100):\n",
        "    return 'A'\n",
        "  elif(score>=60 and score<75):\n",
        "    return 'B'\n",
        "  elif(score>=35 and score<60):\n",
        "    return 'C'\n",
        "  elif(score>=30 and score<=0):\n",
        "    return 'D'\n",
        "  elif(score<30):\n",
        "    return 'F'\n",
        "  else:\n",
        "    return 'Invalid'\n",
        "s=int(input(\"Enter the score= \"))\n",
        "print(\"Grade=\",grade(s))"
      ],
      "metadata": {
        "colab": {
          "base_uri": "https://localhost:8080/"
        },
        "id": "3lQs-yW5MsUw",
        "outputId": "eb660b4d-4328-41ae-fe95-5f37113556b0"
      },
      "execution_count": 53,
      "outputs": [
        {
          "output_type": "stream",
          "name": "stdout",
          "text": [
            "Enter the score= 56\n",
            "Grade= C\n"
          ]
        }
      ]
    }
  ]
}